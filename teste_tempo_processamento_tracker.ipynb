{
 "cells": [
  {
   "cell_type": "markdown",
   "metadata": {},
   "source": [
    "# Funcionalidade"
   ]
  },
  {
   "cell_type": "code",
   "execution_count": 1,
   "metadata": {},
   "outputs": [
    {
     "name": "stdout",
     "output_type": "stream",
     "text": [
      "\n",
      "  id matricula_id                  descricao  tempo nivel percentual_tempo\n",
      "0  1         None     Tarefa 1 - Consecutivo  0.202     1              NaN\n",
      "1  1         None     Tarefa 2 - Consecutivo  0.404     1              NaN\n",
      "2  1         None     Tarefa 3 - Consecutivo  0.606     1              NaN\n",
      "3  1         None  Subtarefa 1 - Consecutivo  0.807     2              NaN\n",
      "4  1         None  Subtarefa 2 - Consecutivo  1.009     2              NaN\n",
      "5  1         None  Subtarefa 3 - Consecutivo  1.210     2              NaN\n",
      "\n"
     ]
    }
   ],
   "source": [
    "import time\n",
    "\n",
    "from tempo_processamento_tracker_consecutivo import TempoProcessamentoTrackerConsecutivo\n",
    "tempo_sleep = 0.2\n",
    "\n",
    "tempo_consecutivo = TempoProcessamentoTrackerConsecutivo()\n",
    "\n",
    "time.sleep(tempo_sleep)\n",
    "tempo_consecutivo.calcular_delta('Tarefa 1 - Consecutivo', 1, incrementar_id=True)\n",
    "time.sleep(tempo_sleep)\n",
    "tempo_consecutivo.calcular_delta('Tarefa 2 - Consecutivo', 1)\n",
    "time.sleep(tempo_sleep)\n",
    "tempo_consecutivo.calcular_delta('Tarefa 3 - Consecutivo', 1)\n",
    "\n",
    "time.sleep(tempo_sleep)\n",
    "tempo_consecutivo.calcular_delta('Subtarefa 1 - Consecutivo', 2)\n",
    "time.sleep(tempo_sleep)\n",
    "tempo_consecutivo.calcular_delta('Subtarefa 2 - Consecutivo', 2)\n",
    "time.sleep(tempo_sleep)\n",
    "tempo_consecutivo.calcular_delta('Subtarefa 3 - Consecutivo', 2)\n",
    "\n",
    "tempo_consecutivo.mostrar_resultados()"
   ]
  },
  {
   "cell_type": "code",
   "execution_count": 2,
   "metadata": {},
   "outputs": [
    {
     "name": "stdout",
     "output_type": "stream",
     "text": [
      "\n",
      "  id matricula_id                   descricao  tempo nivel percentual_tempo\n",
      "0  1         None     Tarefa 1 - Intermitente  0.202     2              NaN\n",
      "1  1         None     Tarefa 2 - Intermitente  0.203     2              NaN\n",
      "2  1         None     Tarefa 3 - Intermitente  0.203     2              NaN\n",
      "3  1         None  Subtarefa 1 - Intermitente  0.201     2              NaN\n",
      "4  1         None  Subtarefa 2 - Intermitente  0.201     2              NaN\n",
      "5  1         None  Subtarefa 3 - Intermitente  0.201     2              NaN\n",
      "\n"
     ]
    }
   ],
   "source": [
    "from tempo_processamento_tracker_intermitente import TempoProcessamentoTrackerIntermitente\n",
    "\n",
    "tempo_intermitente = TempoProcessamentoTrackerIntermitente()\n",
    "\n",
    "time.sleep(tempo_sleep)\n",
    "tempo_intermitente.calcular_delta('Tarefa 1 - Intermitente', 2, incrementar_id=True)\n",
    "time.sleep(tempo_sleep)\n",
    "tempo_intermitente.calcular_delta('Tarefa 2 - Intermitente', 2)\n",
    "time.sleep(tempo_sleep)\n",
    "tempo_intermitente.calcular_delta('Tarefa 3 - Intermitente', 2)\n",
    "\n",
    "time.sleep(tempo_sleep)\n",
    "tempo_intermitente.calcular_delta('Subtarefa 1 - Intermitente', 2)\n",
    "time.sleep(tempo_sleep)\n",
    "tempo_intermitente.calcular_delta('Subtarefa 2 - Intermitente', 2)\n",
    "time.sleep(tempo_sleep)\n",
    "tempo_intermitente.calcular_delta('Subtarefa 3 - Intermitente', 2)\n",
    "\n",
    "tempo_intermitente.mostrar_resultados()"
   ]
  },
  {
   "cell_type": "code",
   "execution_count": 3,
   "metadata": {},
   "outputs": [
    {
     "name": "stdout",
     "output_type": "stream",
     "text": [
      "\n",
      "   id matricula_id                   descricao  tempo nivel percentual_tempo\n",
      "0   1         None     Tarefa 1 - Intermitente  0.202     2              NaN\n",
      "1   1         None     Tarefa 2 - Intermitente  0.203     2              NaN\n",
      "2   1         None     Tarefa 3 - Intermitente  0.203     2              NaN\n",
      "3   1         None  Subtarefa 1 - Intermitente  0.201     2              NaN\n",
      "4   1         None  Subtarefa 2 - Intermitente  0.201     2              NaN\n",
      "5   1         None  Subtarefa 3 - Intermitente  0.201     2              NaN\n",
      "6   1         None      Tarefa 1 - Consecutivo  0.202     1              NaN\n",
      "7   1         None      Tarefa 2 - Consecutivo  0.404     1              NaN\n",
      "8   1         None      Tarefa 3 - Consecutivo  0.606     1              NaN\n",
      "9   1         None   Subtarefa 1 - Consecutivo  0.807     2              NaN\n",
      "10  1         None   Subtarefa 2 - Consecutivo  1.009     2              NaN\n",
      "11  1         None   Subtarefa 3 - Consecutivo  1.210     2              NaN\n",
      "\n"
     ]
    }
   ],
   "source": [
    "tempo_intermitente.adicionar_df(tempo_consecutivo.df)\n",
    "tempo_intermitente.mostrar_resultados()"
   ]
  },
  {
   "cell_type": "code",
   "execution_count": 4,
   "metadata": {},
   "outputs": [
    {
     "name": "stdout",
     "output_type": "stream",
     "text": [
      "\n",
      "   id matricula_id                   descricao  tempo nivel percentual_tempo\n",
      "0   1       221829     Tarefa 1 - Intermitente  0.202     2              NaN\n",
      "1   1       221829     Tarefa 2 - Intermitente  0.203     2              NaN\n",
      "2   1       221829     Tarefa 3 - Intermitente  0.203     2              NaN\n",
      "3   1       221829  Subtarefa 1 - Intermitente  0.201     2              NaN\n",
      "4   1       221829  Subtarefa 2 - Intermitente  0.201     2              NaN\n",
      "5   1       221829  Subtarefa 3 - Intermitente  0.201     2              NaN\n",
      "6   1       221829      Tarefa 1 - Consecutivo  0.202     1              NaN\n",
      "7   1       221829      Tarefa 2 - Consecutivo  0.404     1              NaN\n",
      "8   1       221829      Tarefa 3 - Consecutivo  0.606     1              NaN\n",
      "9   1       221829   Subtarefa 1 - Consecutivo  0.807     2              NaN\n",
      "10  1       221829   Subtarefa 2 - Consecutivo  1.009     2              NaN\n",
      "11  1       221829   Subtarefa 3 - Consecutivo  1.210     2              NaN\n",
      "\n"
     ]
    }
   ],
   "source": [
    "tempo_intermitente.adicionar_matricula_df('221829', [1])\n",
    "tempo_intermitente.mostrar_resultados_id([1])"
   ]
  },
  {
   "cell_type": "code",
   "execution_count": 5,
   "metadata": {},
   "outputs": [
    {
     "name": "stdout",
     "output_type": "stream",
     "text": [
      "\n",
      "   id matricula_id                   descricao  tempo nivel percentual_tempo\n",
      "0   1       221829     Tarefa 1 - Intermitente  0.202     2              NaN\n",
      "1   1       221829     Tarefa 2 - Intermitente  0.203     2              NaN\n",
      "2   1       221829     Tarefa 3 - Intermitente  0.203     2              NaN\n",
      "3   1       221829  Subtarefa 1 - Intermitente  0.201     2              NaN\n",
      "4   1       221829  Subtarefa 2 - Intermitente  0.201     2              NaN\n",
      "5   1       221829  Subtarefa 3 - Intermitente  0.201     2              NaN\n",
      "6   1       221829      Tarefa 1 - Consecutivo  0.202     1              NaN\n",
      "7   1       221829      Tarefa 2 - Consecutivo  0.404     1              NaN\n",
      "8   1       221829      Tarefa 3 - Consecutivo  0.606     1              NaN\n",
      "9   1       221829   Subtarefa 1 - Consecutivo  0.807     2              NaN\n",
      "10  1       221829   Subtarefa 2 - Consecutivo  1.009     2              NaN\n",
      "11  1       221829   Subtarefa 3 - Consecutivo  1.210     2              NaN\n",
      "\n"
     ]
    }
   ],
   "source": [
    "tempo_intermitente.mostrar_resultados_matricula(['221829'])"
   ]
  },
  {
   "cell_type": "code",
   "execution_count": 6,
   "metadata": {},
   "outputs": [
    {
     "name": "stdout",
     "output_type": "stream",
     "text": [
      "\n",
      "   id matricula_id                   descricao  tempo nivel percentual_tempo\n",
      "0   1       221829     Tarefa 1 - Intermitente  0.202     2              NaN\n",
      "1   1       221829     Tarefa 2 - Intermitente  0.203     2              NaN\n",
      "2   1       221829     Tarefa 3 - Intermitente  0.203     2              NaN\n",
      "3   1       221829  Subtarefa 1 - Intermitente  0.201     2              NaN\n",
      "4   1       221829  Subtarefa 2 - Intermitente  0.201     2              NaN\n",
      "5   1       221829  Subtarefa 3 - Intermitente  0.201     2              NaN\n",
      "6   1       221829      Tarefa 1 - Consecutivo  0.202     1              NaN\n",
      "7   1       221829      Tarefa 2 - Consecutivo  0.404     1              NaN\n",
      "8   1       221829      Tarefa 3 - Consecutivo  0.606     1              NaN\n",
      "9   1       221829   Subtarefa 1 - Consecutivo  0.807     2              NaN\n",
      "10  1       221829   Subtarefa 2 - Consecutivo  1.009     2              NaN\n",
      "11  1       221829   Subtarefa 3 - Consecutivo  1.210     2              NaN\n",
      "\n"
     ]
    }
   ],
   "source": [
    "tempo_intermitente.mostrar_resultados_matricula(['221829', None])"
   ]
  },
  {
   "cell_type": "code",
   "execution_count": 7,
   "metadata": {},
   "outputs": [
    {
     "name": "stdout",
     "output_type": "stream",
     "text": [
      "\n",
      "   id matricula_id                   descricao  tempo nivel percentual_tempo\n",
      "0   1       221829     Tarefa 1 - Intermitente  0.202     2              NaN\n",
      "1   1       221829     Tarefa 2 - Intermitente  0.203     2              NaN\n",
      "2   1       221829     Tarefa 3 - Intermitente  0.203     2              NaN\n",
      "3   1       221829  Subtarefa 1 - Intermitente  0.201     2              NaN\n",
      "4   1       221829  Subtarefa 2 - Intermitente  0.201     2              NaN\n",
      "5   1       221829  Subtarefa 3 - Intermitente  0.201     2              NaN\n",
      "9   1       221829   Subtarefa 1 - Consecutivo  0.807     2              NaN\n",
      "10  1       221829   Subtarefa 2 - Consecutivo  1.009     2              NaN\n",
      "11  1       221829   Subtarefa 3 - Consecutivo  1.210     2              NaN\n",
      "\n"
     ]
    }
   ],
   "source": [
    "tempo_intermitente.mostrar_resultados_nivel([1], [2])"
   ]
  },
  {
   "cell_type": "markdown",
   "metadata": {},
   "source": [
    "# Percentual"
   ]
  },
  {
   "cell_type": "code",
   "execution_count": 8,
   "metadata": {},
   "outputs": [
    {
     "name": "stdout",
     "output_type": "stream",
     "text": [
      "\n",
      "  id matricula_id                   descricao  tempo nivel percentual_tempo\n",
      "0  1         None     Tarefa 1 - Intermitente  0.202     1              NaN\n",
      "1  1         None     Tarefa 2 - Intermitente  0.201     1              NaN\n",
      "2  1         None     Tarefa 3 - Intermitente  0.203     1              NaN\n",
      "3  1         None  Subtarefa 1 - Intermitente  0.201     2              NaN\n",
      "4  1         None  Subtarefa 2 - Intermitente  0.202     2              NaN\n",
      "5  1         None  Subtarefa 3 - Intermitente  0.202     2              NaN\n",
      "\n"
     ]
    }
   ],
   "source": [
    "tempo_intermitente = TempoProcessamentoTrackerIntermitente()\n",
    "\n",
    "time.sleep(tempo_sleep)\n",
    "tempo_intermitente.calcular_delta('Tarefa 1 - Intermitente', 1, incrementar_id=True)\n",
    "time.sleep(tempo_sleep)\n",
    "tempo_intermitente.calcular_delta('Tarefa 2 - Intermitente', 1)\n",
    "time.sleep(tempo_sleep)\n",
    "tempo_intermitente.calcular_delta('Tarefa 3 - Intermitente', 1)\n",
    "\n",
    "time.sleep(tempo_sleep)\n",
    "tempo_intermitente.calcular_delta('Subtarefa 1 - Intermitente', 2)\n",
    "time.sleep(tempo_sleep)\n",
    "tempo_intermitente.calcular_delta('Subtarefa 2 - Intermitente', 2)\n",
    "time.sleep(tempo_sleep)\n",
    "tempo_intermitente.calcular_delta('Subtarefa 3 - Intermitente', 2)\n",
    "\n",
    "tempo_intermitente.mostrar_resultados()"
   ]
  },
  {
   "cell_type": "code",
   "execution_count": 9,
   "metadata": {},
   "outputs": [],
   "source": [
    "tempo_intermitente2 = tempo_intermitente.copy()"
   ]
  },
  {
   "cell_type": "code",
   "execution_count": 10,
   "metadata": {},
   "outputs": [
    {
     "name": "stdout",
     "output_type": "stream",
     "text": [
      "\n",
      "  id matricula_id                   descricao  tempo nivel percentual_tempo\n",
      "0  1         None     Tarefa 1 - Intermitente  0.202     1           33.333\n",
      "1  1         None     Tarefa 2 - Intermitente  0.201     1           33.168\n",
      "2  1         None     Tarefa 3 - Intermitente  0.203     1           33.498\n",
      "3  1         None  Subtarefa 1 - Intermitente  0.201     2              NaN\n",
      "4  1         None  Subtarefa 2 - Intermitente  0.202     2              NaN\n",
      "5  1         None  Subtarefa 3 - Intermitente  0.202     2              NaN\n",
      "\n"
     ]
    }
   ],
   "source": [
    "tempo_intermitente.calcular_percentual_tempo(1, 1)\n",
    "tempo_intermitente.mostrar_resultados()"
   ]
  },
  {
   "cell_type": "code",
   "execution_count": 11,
   "metadata": {},
   "outputs": [
    {
     "name": "stdout",
     "output_type": "stream",
     "text": [
      "\n",
      "  id matricula_id                   descricao  tempo nivel percentual_tempo\n",
      "0  1         None     Tarefa 1 - Intermitente  0.202     1              NaN\n",
      "1  1         None     Tarefa 2 - Intermitente  0.201     1              NaN\n",
      "2  1         None     Tarefa 3 - Intermitente  0.203     1              NaN\n",
      "3  1         None  Subtarefa 1 - Intermitente  0.201     2              NaN\n",
      "4  1         None  Subtarefa 2 - Intermitente  0.202     2              NaN\n",
      "5  1         None  Subtarefa 3 - Intermitente  0.202     2              NaN\n",
      "\n"
     ]
    }
   ],
   "source": [
    "tempo_intermitente2.mostrar_resultados()"
   ]
  },
  {
   "cell_type": "code",
   "execution_count": 12,
   "metadata": {},
   "outputs": [
    {
     "name": "stdout",
     "output_type": "stream",
     "text": [
      "\n",
      "  id matricula_id                   descricao  tempo nivel percentual_tempo\n",
      "0  1         None     Tarefa 1 - Intermitente  0.202     1           33.333\n",
      "1  1         None     Tarefa 2 - Intermitente  0.201     1           33.168\n",
      "2  1         None     Tarefa 3 - Intermitente  0.203     1           33.498\n",
      "3  1         None  Subtarefa 1 - Intermitente  0.201     2           33.223\n",
      "4  1         None  Subtarefa 2 - Intermitente  0.202     2           33.388\n",
      "5  1         None  Subtarefa 3 - Intermitente  0.202     2           33.388\n",
      "\n"
     ]
    }
   ],
   "source": [
    "tempo_intermitente2.calcular_percentual_tempo_todos()\n",
    "tempo_intermitente2.mostrar_resultados()"
   ]
  }
 ],
 "metadata": {
  "kernelspec": {
   "display_name": "RP",
   "language": "python",
   "name": "python3"
  },
  "language_info": {
   "codemirror_mode": {
    "name": "ipython",
    "version": 3
   },
   "file_extension": ".py",
   "mimetype": "text/x-python",
   "name": "python",
   "nbconvert_exporter": "python",
   "pygments_lexer": "ipython3",
   "version": "3.12.2"
  }
 },
 "nbformat": 4,
 "nbformat_minor": 2
}
